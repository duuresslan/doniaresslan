{
 "cells": [
  {
   "cell_type": "code",
   "execution_count": 5,
   "metadata": {},
   "outputs": [
    {
     "name": "stdout",
     "output_type": "stream",
     "text": [
      "sum= 70.0\n",
      "sub= 30.0\n",
      "mul= 1000.0\n",
      "power= 9.5367431640625e+33\n",
      "10.0\n"
     ]
    }
   ],
   "source": [
    "#read 1st num\n",
    "num1= input(\"enter 1st num:\")\n",
    "#read 2nd num\n",
    "num2= input(\"enter 2nd num:\")\n",
    "#convert from str to float\n",
    "num1 = float(num1)\n",
    "num2 = float(num2)\n",
    "#print sum\n",
    "print(\"sum=\", num1 + num2)\n",
    "#print sub\n",
    "print(\"sub=\", num1 - num2)\n",
    "#print mul\n",
    "print(\"mul=\", num1 * num2)\n",
    "#print power\n",
    "print(\"power=\", num1**num2)\n",
    "#print % \n",
    "print(num1%num2)\n"
   ]
  },
  {
   "cell_type": "code",
   "execution_count": 4,
   "metadata": {},
   "outputs": [
    {
     "data": {
      "text/plain": [
       "10"
      ]
     },
     "execution_count": 4,
     "metadata": {},
     "output_type": "execute_result"
    }
   ],
   "source": [
    "50"
   ]
  },
  {
   "cell_type": "code",
   "execution_count": 1,
   "metadata": {},
   "outputs": [
    {
     "data": {
      "text/plain": [
       "20"
      ]
     },
     "execution_count": 1,
     "metadata": {},
     "output_type": "execute_result"
    }
   ],
   "source": [
    "20"
   ]
  },
  {
   "cell_type": "code",
   "execution_count": null,
   "metadata": {},
   "outputs": [],
   "source": []
  }
 ],
 "metadata": {
  "interpreter": {
   "hash": "3b5250347e4ace273d890aa0a86e80aefc99f5911da44d9c779aabd00f18f6f4"
  },
  "kernelspec": {
   "display_name": "Python 3.10.2 64-bit",
   "language": "python",
   "name": "python3"
  },
  "language_info": {
   "codemirror_mode": {
    "name": "ipython",
    "version": 3
   },
   "file_extension": ".py",
   "mimetype": "text/x-python",
   "name": "python",
   "nbconvert_exporter": "python",
   "pygments_lexer": "ipython3",
   "version": "3.10.2"
  },
  "orig_nbformat": 4
 },
 "nbformat": 4,
 "nbformat_minor": 2
}
