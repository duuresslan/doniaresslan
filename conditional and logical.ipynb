{
 "cells": [
  {
   "cell_type": "code",
   "execution_count": null,
   "metadata": {},
   "outputs": [],
   "source": [
    "#comparision operations\n",
    "5>4\n",
    "5<4\n",
    "5==4\n",
    "5!=4\n",
    "5>=4\n",
    "5<=4\n",
    "5 is 4\n",
    "5 is not 4\n"
   ]
  },
  {
   "cell_type": "code",
   "execution_count": null,
   "metadata": {},
   "outputs": [],
   "source": [
    "#logical operation\n",
    "5>4 and 6>6\n",
    "6>4 or 5>4\n"
   ]
  },
  {
   "cell_type": "code",
   "execution_count": null,
   "metadata": {},
   "outputs": [],
   "source": [
    "#conditional\n",
    "#simple condition\n",
    "#read age\n",
    "age= input(\"please enter your age:\")\n",
    "#convert age from str to floate\n",
    "age=float(age)\n",
    "#compare age\n",
    "if age>=18:\n",
    "    print(\"Done\")\n",
    "else:\n",
    "    print(\"you cannot\")\n"
   ]
  },
  {
   "cell_type": "code",
   "execution_count": null,
   "metadata": {},
   "outputs": [],
   "source": [
    "#complex condition\n",
    "age= input(\"please enter your age:\")\n",
    "gender= input(\"please enter your gander:\")\n",
    "#convert age from str to floate\n",
    "age=float(age)\n",
    "#compare age\n",
    "if age>=18 and (gender ==\"m\" or \"male\"):\n",
    "    print(\" Male Done\")\n",
    "elif age <18 and (gender ==\"m\" or \"male\"):\n",
    "    print(\"male dont allow\")\n",
    "elif age >=20 and (gender ==\"f\" or \"female\"):\n",
    "    print(\"female allow\")\n",
    "elif age <20 and (gender ==\"f\" or \"female\"):\n",
    "    print(\"female dont allow\")\n",
    "else:\n",
    "    print(\"undifined\") "
   ]
  }
 ],
 "metadata": {
  "interpreter": {
   "hash": "3b5250347e4ace273d890aa0a86e80aefc99f5911da44d9c779aabd00f18f6f4"
  },
  "kernelspec": {
   "display_name": "Python 3.10.2 64-bit",
   "language": "python",
   "name": "python3"
  },
  "language_info": {
   "codemirror_mode": {
    "name": "ipython",
    "version": 3
   },
   "file_extension": ".py",
   "mimetype": "text/x-python",
   "name": "python",
   "nbconvert_exporter": "python",
   "pygments_lexer": "ipython3",
   "version": "3.10.2"
  },
  "orig_nbformat": 4
 },
 "nbformat": 4,
 "nbformat_minor": 2
}
