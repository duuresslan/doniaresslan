{
 "cells": [
  {
   "cell_type": "code",
   "execution_count": 17,
   "metadata": {},
   "outputs": [
    {
     "name": "stdout",
     "output_type": "stream",
     "text": [
      "mul= 12.0\n"
     ]
    }
   ],
   "source": [
    "#read 1st num\n",
    "num1= input(\"please enter 1st num:\")\n",
    "#read 2nd num\n",
    "num2= input(\" pleae enter 2nd num:\")\n",
    "# read op\n",
    "op= input(\"please enter operation:\")\n",
    "#convert from str to float\n",
    "num1= float(num1)\n",
    "num2= float(num2)\n",
    "if op==\"+\":\n",
    "    res1=num1+num2\n",
    "    print(\"sum=\", res1)\n",
    "elif op== \"-\":\n",
    "    res2=num1-num2\n",
    "    print(\"sub=\", res2)\n",
    "elif op==\"*\" or \"x\":\n",
    "    res3=num1* num2\n",
    "    print(\"mul=\", res3)\n",
    "elif op==\"/\":\n",
    "    res4=num1/num2\n",
    "    print(\"div=\", res4)\n",
    "else :\n",
    "    print(\"erorr\")\n"
   ]
  },
  {
   "cell_type": "code",
   "execution_count": null,
   "metadata": {},
   "outputs": [],
   "source": []
  },
  {
   "cell_type": "code",
   "execution_count": null,
   "metadata": {},
   "outputs": [],
   "source": []
  }
 ],
 "metadata": {
  "interpreter": {
   "hash": "3b5250347e4ace273d890aa0a86e80aefc99f5911da44d9c779aabd00f18f6f4"
  },
  "kernelspec": {
   "display_name": "Python 3.10.2 64-bit",
   "language": "python",
   "name": "python3"
  },
  "language_info": {
   "codemirror_mode": {
    "name": "ipython",
    "version": 3
   },
   "file_extension": ".py",
   "mimetype": "text/x-python",
   "name": "python",
   "nbconvert_exporter": "python",
   "pygments_lexer": "ipython3",
   "version": "3.10.2"
  },
  "orig_nbformat": 4
 },
 "nbformat": 4,
 "nbformat_minor": 2
}
